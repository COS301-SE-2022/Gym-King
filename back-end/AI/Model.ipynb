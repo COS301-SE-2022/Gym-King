{
  "cells": [
    {
      "cell_type": "code",
      "execution_count": null,
      "metadata": {
        "colab": {
          "base_uri": "https://localhost:8080/"
        },
        "id": "rAbbkQ8QY04b",
        "outputId": "9fc3fd66-a345-441c-f68b-81ad07ea2b76"
      },
      "outputs": [
        {
          "output_type": "stream",
          "name": "stdout",
          "text": [
            "Reading package lists... Done\n",
            "Building dependency tree       \n",
            "Reading state information... Done\n",
            "The following package was automatically installed and is no longer required:\n",
            "  libnvidia-common-460\n",
            "Use 'apt autoremove' to remove it.\n",
            "The following packages will be REMOVED:\n",
            "  libcudnn8-dev\n",
            "The following held packages will be changed:\n",
            "  libcudnn8\n",
            "The following packages will be upgraded:\n",
            "  libcudnn8\n",
            "1 upgraded, 0 newly installed, 1 to remove and 18 not upgraded.\n",
            "Need to get 420 MB of archives.\n",
            "After this operation, 3,369 MB disk space will be freed.\n",
            "Get:1 https://developer.download.nvidia.com/compute/cuda/repos/ubuntu1804/x86_64  libcudnn8 8.4.1.50-1+cuda11.6 [420 MB]\n",
            "Fetched 420 MB in 7s (63.7 MB/s)\n",
            "(Reading database ... 155676 files and directories currently installed.)\n",
            "Removing libcudnn8-dev (8.0.5.39-1+cuda11.1) ...\n",
            "(Reading database ... 155654 files and directories currently installed.)\n",
            "Preparing to unpack .../libcudnn8_8.4.1.50-1+cuda11.6_amd64.deb ...\n",
            "Unpacking libcudnn8 (8.4.1.50-1+cuda11.6) over (8.0.5.39-1+cuda11.1) ...\n",
            "Setting up libcudnn8 (8.4.1.50-1+cuda11.6) ...\n"
          ]
        }
      ],
      "source": [
        "#using collab GPU\n",
        "!apt install --allow-change-held-packages libcudnn8=8.4.1.50-1+cuda11.6"
      ],
      "id": "rAbbkQ8QY04b"
    },
    {
      "cell_type": "markdown",
      "source": [
        "# IMPORTING TENSOERFLOW \n"
      ],
      "metadata": {
        "id": "a_8kH0gPF9o-"
      },
      "id": "a_8kH0gPF9o-"
    },
    {
      "cell_type": "code",
      "execution_count": null,
      "metadata": {
        "id": "c59195d2"
      },
      "outputs": [],
      "source": [
        "import os\n",
        "import zipfile\n",
        "import random\n",
        "import shutil\n",
        "import tensorflow as tf\n",
        "from tensorflow.keras.preprocessing.image import ImageDataGenerator\n",
        "from shutil import copyfile\n",
        "import matplotlib.pyplot as plt"
      ],
      "id": "c59195d2"
    },
    {
      "cell_type": "code",
      "execution_count": null,
      "metadata": {
        "colab": {
          "base_uri": "https://localhost:8080/"
        },
        "id": "LW-6sOqKZLL8",
        "outputId": "315cd105-a0ef-42dc-c192-b5fa66e8c7b5"
      },
      "outputs": [
        {
          "output_type": "stream",
          "name": "stdout",
          "text": [
            "Mounted at /content/drive\n"
          ]
        }
      ],
      "source": [
        "from google.colab import drive\n",
        "drive.mount('/content/drive',force_remount=True)"
      ],
      "id": "LW-6sOqKZLL8"
    },
    {
      "cell_type": "markdown",
      "source": [
        "directories follow from my google drive after linking it with google collabs"
      ],
      "metadata": {
        "id": "IlTzpeBNGLH_"
      },
      "id": "IlTzpeBNGLH_"
    },
    {
      "cell_type": "code",
      "execution_count": null,
      "metadata": {
        "colab": {
          "base_uri": "https://localhost:8080/"
        },
        "id": "adce44b5",
        "outputId": "16829aa3-0fc0-4f9b-fc8d-e4a2b0948d30",
        "scrolled": true
      },
      "outputs": [
        {
          "output_type": "stream",
          "name": "stdout",
          "text": [
            "['SitUp_up', 'SitUp_down', 'BenchPress_up', 'PushUp_down', 'BenchPress_down', 'PushUp_up', 'PullUp_down', 'PullUp_up']\n"
          ]
        }
      ],
      "source": [
        "root_Dir = '/content/drive/MyDrive/Strength NN/model_data'\n",
        "source_Dir='/content/drive/MyDrive/Strength NN/raw_data'\n",
        "local_weights_file = '/content/drive/MyDrive/Strength NN/inception_v3_weights_tf_dim_ordering_tf_kernels_notop.h5'\n",
        "categories=os.listdir(source_Dir)\n",
        "print(categories)\n",
        "#['SitUp_up', 'SitUp_down', 'BenchPress_up', 'PushUp_down', 'BenchPress_down', 'PushUp_up', 'PullUp_down', 'PullUp_up', 'Plank', 'Running']\n"
      ],
      "id": "adce44b5"
    },
    {
      "cell_type": "markdown",
      "metadata": {
        "id": "oQWGFWjJYECd"
      },
      "source": [
        "#CREATING A TRAINING AND VALIDATION SET FROM MY RAW_DATA FILE\n",
        "do not run following cells if model_data already had already been populated"
      ],
      "id": "oQWGFWjJYECd"
    },
    {
      "cell_type": "markdown",
      "source": [
        "creates validation and training directories"
      ],
      "metadata": {
        "id": "zvSocNSVGu4X"
      },
      "id": "zvSocNSVGu4X"
    },
    {
      "cell_type": "code",
      "execution_count": null,
      "metadata": {
        "id": "e878e59a"
      },
      "outputs": [],
      "source": [
        "if os.path.exists(root_Dir):\n",
        "  shutil.rmtree(root_Dir)\n",
        "\n",
        "def create_train_val_dirs(root_path):\n",
        "    train_dir = os.path.join(root_path, 'training')\n",
        "    os.makedirs(train_dir)\n",
        "    validation_dir = os.path.join(root_path, 'validation')\n",
        "    os.makedirs(validation_dir)\n",
        "    for category in categories:\n",
        "        train_category=os.path.join(train_dir,category)\n",
        "        os.makedirs(train_category)\n",
        "        validate_category=os.path.join(validation_dir,category)\n",
        "        os.makedirs(validate_category)\n",
        "try:\n",
        "  create_train_val_dirs(root_path=root_Dir)\n",
        "except FileExistsError:\n",
        "  print(\"You should not be seeing this since the upper directory is removed beforehand\")"
      ],
      "id": "e878e59a"
    },
    {
      "cell_type": "markdown",
      "source": [
        "helper function to split data into training and validation set. split_size is the percentage of data taht would be goin in to training and validation set"
      ],
      "metadata": {
        "id": "pF7jewa2Gzjd"
      },
      "id": "pF7jewa2Gzjd"
    },
    {
      "cell_type": "code",
      "execution_count": null,
      "metadata": {
        "id": "4c17a625"
      },
      "outputs": [],
      "source": [
        "def split_data(SOURCE_DIR, TRAINING_DIR, VALIDATION_DIR, SPLIT_SIZE):\n",
        "  list_files=[]\n",
        "  for rootdir, dirs, files in os.walk(SOURCE_DIR):\n",
        "    list_files.append(files)\n",
        "  \n",
        "  length=len(list_files[0])\n",
        "  list_files=random.sample(list_files[0],length)\n",
        "  train_size=int(length*SPLIT_SIZE)\n",
        "  count=0\n",
        "\n",
        "  for file in list_files:\n",
        "    dir= os.path.join(SOURCE_DIR,file)\n",
        "    if(os.path.getsize(dir)>0):\n",
        "      if(count<train_size):\n",
        "        new_dir=os.path.join(TRAINING_DIR,file)\n",
        "        copyfile(dir,new_dir)\n",
        "        count=count+1\n",
        "      else:\n",
        "        new_dir=os.path.join(VALIDATION_DIR,file)\n",
        "        copyfile(dir,new_dir)\n",
        "        count=count+1\n",
        "    else:\n",
        "      print(file,\"is zero length, so ignoring.\")"
      ],
      "id": "4c17a625"
    },
    {
      "cell_type": "markdown",
      "source": [
        "splitting the data"
      ],
      "metadata": {
        "id": "-QmwEfcgHF2t"
      },
      "id": "-QmwEfcgHF2t"
    },
    {
      "cell_type": "code",
      "execution_count": null,
      "metadata": {
        "id": "8eb9979a"
      },
      "outputs": [],
      "source": [
        "split_size = .8\n",
        "for category in categories:\n",
        "    source=os.path.join(source_Dir,category+\"/\")\n",
        "    train=os.path.join(root_Dir,'training/'+category+\"/\")\n",
        "    validate=os.path.join(root_Dir,'validation/'+category+\"/\")\n",
        "    split_data(source, train, validate, split_size)"
      ],
      "id": "8eb9979a"
    },
    {
      "cell_type": "markdown",
      "source": [
        "# CREATING TRAINING AND VALIDATION GENERATORS\n",
        "**You may run the following cells\n",
        "performs data augmentation on training data in essentially \"increase variabililty in our data\""
      ],
      "metadata": {
        "id": "6qhmik0rHIpH"
      },
      "id": "6qhmik0rHIpH"
    },
    {
      "cell_type": "code",
      "execution_count": null,
      "metadata": {
        "id": "326bf617"
      },
      "outputs": [],
      "source": [
        "def train_val_generators(TRAINING_DIR, VALIDATION_DIR):\n",
        "  train_datagen = ImageDataGenerator(rescale=1.0/255.,\n",
        "                                     rotation_range=40,\n",
        "                                     width_shift_range=0.2,\n",
        "                                     height_shift_range=0.2,\n",
        "                                     shear_range=0.2,\n",
        "                                     zoom_range=0.2,\n",
        "                                     horizontal_flip=True,\n",
        "                                     fill_mode='nearest')\n",
        "  train_generator = train_datagen.flow_from_directory(directory=TRAINING_DIR,\n",
        "                                                      batch_size=20,\n",
        "                                                      class_mode=\"categorical\",\n",
        "                                                      target_size=(300,300 ))\n",
        "    \n",
        "  validation_datagen = ImageDataGenerator(rescale=1.0/255.)\n",
        "\n",
        "  validation_generator = validation_datagen.flow_from_directory(directory=VALIDATION_DIR,\n",
        "                                                                batch_size=20,  \n",
        "                                                                class_mode=\"categorical\",\n",
        "                                                                target_size=(300, 300))\n",
        "  return train_generator, validation_generator\n"
      ],
      "id": "326bf617"
    },
    {
      "cell_type": "code",
      "execution_count": null,
      "metadata": {
        "colab": {
          "base_uri": "https://localhost:8080/"
        },
        "id": "e4371051",
        "outputId": "463d3177-c782-43b7-a9cd-765dee8a7a4c"
      },
      "outputs": [
        {
          "output_type": "stream",
          "name": "stdout",
          "text": [
            "Found 869 images belonging to 8 classes.\n",
            "Found 222 images belonging to 8 classes.\n"
          ]
        }
      ],
      "source": [
        "train=os.path.join(root_Dir,'training/')\n",
        "validate=os.path.join(root_Dir,'validation/')\n",
        "train_generator, validation_generator = train_val_generators(train, validate)"
      ],
      "id": "e4371051"
    },
    {
      "cell_type": "markdown",
      "source": [
        "import the inception v3 ore-trained architecture. tensorflow allows for transfered learning. and this architecture works well for computer vision apparently."
      ],
      "metadata": {
        "id": "fC2pmekSHisn"
      },
      "id": "fC2pmekSHisn"
    },
    {
      "cell_type": "code",
      "execution_count": null,
      "metadata": {
        "id": "62e92119"
      },
      "outputs": [],
      "source": [
        "from tensorflow.keras.applications.inception_v3 import InceptionV3"
      ],
      "id": "62e92119"
    },
    {
      "cell_type": "markdown",
      "source": [
        "creating input layer and freezing nodes"
      ],
      "metadata": {
        "id": "zkm5Mh52H_sG"
      },
      "id": "zkm5Mh52H_sG"
    },
    {
      "cell_type": "code",
      "execution_count": null,
      "metadata": {
        "id": "0f7d1e73"
      },
      "outputs": [],
      "source": [
        "def create_pre_trained_model(local_weights_file):\n",
        "    pre_trained_model = InceptionV3(input_shape = (300, 300, 3),\n",
        "                                  include_top = False, \n",
        "                                  weights = None) \n",
        "\n",
        "    pre_trained_model.load_weights(local_weights_file)\n",
        "    for layer in pre_trained_model.layers:\n",
        "        layer.trainable = False\n",
        "    return pre_trained_model"
      ],
      "id": "0f7d1e73"
    },
    {
      "cell_type": "code",
      "execution_count": null,
      "metadata": {
        "id": "5e8ceda4"
      },
      "outputs": [],
      "source": [
        "pre_trained_model = create_pre_trained_model(local_weights_file)"
      ],
      "id": "5e8ceda4"
    },
    {
      "cell_type": "markdown",
      "source": [
        "create a call back function to stop epochs if desired accuracies are achieved"
      ],
      "metadata": {
        "id": "NETmco_LIFcN"
      },
      "id": "NETmco_LIFcN"
    },
    {
      "cell_type": "code",
      "execution_count": null,
      "metadata": {
        "id": "d66d8101"
      },
      "outputs": [],
      "source": [
        "class myCallback(tf.keras.callbacks.Callback):\n",
        "    def on_epoch_end(self, epoch, logs={}):\n",
        "        if(logs.get('accuracy')>0.85 and logs.get(\"val_accuracy\")>.85):\n",
        "              print(\"\\nReached satisfactory accuracy so cancelling training!\")\n",
        "              self.model.stop_training = True"
      ],
      "id": "d66d8101"
    },
    {
      "cell_type": "markdown",
      "source": [
        "adjusting the last outpute layre of the inception v3 model"
      ],
      "metadata": {
        "id": "l1nI-qhoIOJF"
      },
      "id": "l1nI-qhoIOJF"
    },
    {
      "cell_type": "code",
      "execution_count": null,
      "metadata": {
        "id": "9e31ff91"
      },
      "outputs": [],
      "source": [
        "def output_of_last_layer(pre_trained_model):\n",
        "      last_desired_layer =pre_trained_model.get_layer('mixed7')\n",
        "      print('last layer output shape: ', last_desired_layer.output_shape)\n",
        "      last_output = last_desired_layer.output\n",
        "      print('last layer output: ', last_output)\n",
        "      return last_output"
      ],
      "id": "9e31ff91"
    },
    {
      "cell_type": "code",
      "execution_count": null,
      "metadata": {
        "colab": {
          "base_uri": "https://localhost:8080/"
        },
        "id": "5dbb3d67",
        "outputId": "7d6b0b38-fdfc-4350-80fe-2a666d060acf"
      },
      "outputs": [
        {
          "output_type": "stream",
          "name": "stdout",
          "text": [
            "last layer output shape:  (None, 17, 17, 768)\n",
            "last layer output:  KerasTensor(type_spec=TensorSpec(shape=(None, 17, 17, 768), dtype=tf.float32, name=None), name='mixed7/concat:0', description=\"created by layer 'mixed7'\")\n"
          ]
        }
      ],
      "source": [
        "last_output = output_of_last_layer(pre_trained_model)"
      ],
      "id": "5dbb3d67"
    },
    {
      "cell_type": "markdown",
      "source": [
        "building the dense layre to map to our data"
      ],
      "metadata": {
        "id": "9o1HwVw2IbTc"
      },
      "id": "9o1HwVw2IbTc"
    },
    {
      "cell_type": "code",
      "execution_count": null,
      "metadata": {
        "id": "0a3a1b40"
      },
      "outputs": [],
      "source": [
        "def create_final_model(pre_trained_model, last_output):\n",
        "      x = tf.keras.layers.Flatten()(last_output)\n",
        "      x = tf.keras.layers.Dense(1024, activation='relu')(x)\n",
        "      x = tf.keras.layers.Dropout(0.2)(x)\n",
        "      x = tf.keras.layers.Dense  (len(categories), activation='softmax')(x) \n",
        "      model = tf.keras.Model(inputs=pre_trained_model.input, outputs=x)\n",
        "        \n",
        "      model.compile( optimizer = 'SGD',\n",
        "                loss = 'categorical_crossentropy',\n",
        "                metrics=['accuracy'])\n",
        "      return model"
      ],
      "id": "0a3a1b40"
    },
    {
      "cell_type": "code",
      "execution_count": null,
      "metadata": {
        "id": "68effd48",
        "colab": {
          "base_uri": "https://localhost:8080/"
        },
        "outputId": "cc0ed00f-7840-4109-da88-5b841fd2618a"
      },
      "outputs": [
        {
          "output_type": "stream",
          "name": "stdout",
          "text": [
            "Model: \"model\"\n",
            "__________________________________________________________________________________________________\n",
            " Layer (type)                   Output Shape         Param #     Connected to                     \n",
            "==================================================================================================\n",
            " input_1 (InputLayer)           [(None, 300, 300, 3  0           []                               \n",
            "                                )]                                                                \n",
            "                                                                                                  \n",
            " conv2d (Conv2D)                (None, 149, 149, 32  864         ['input_1[0][0]']                \n",
            "                                )                                                                 \n",
            "                                                                                                  \n",
            " batch_normalization (BatchNorm  (None, 149, 149, 32  96         ['conv2d[0][0]']                 \n",
            " alization)                     )                                                                 \n",
            "                                                                                                  \n",
            " activation (Activation)        (None, 149, 149, 32  0           ['batch_normalization[0][0]']    \n",
            "                                )                                                                 \n",
            "                                                                                                  \n",
            " conv2d_1 (Conv2D)              (None, 147, 147, 32  9216        ['activation[0][0]']             \n",
            "                                )                                                                 \n",
            "                                                                                                  \n",
            " batch_normalization_1 (BatchNo  (None, 147, 147, 32  96         ['conv2d_1[0][0]']               \n",
            " rmalization)                   )                                                                 \n",
            "                                                                                                  \n",
            " activation_1 (Activation)      (None, 147, 147, 32  0           ['batch_normalization_1[0][0]']  \n",
            "                                )                                                                 \n",
            "                                                                                                  \n",
            " conv2d_2 (Conv2D)              (None, 147, 147, 64  18432       ['activation_1[0][0]']           \n",
            "                                )                                                                 \n",
            "                                                                                                  \n",
            " batch_normalization_2 (BatchNo  (None, 147, 147, 64  192        ['conv2d_2[0][0]']               \n",
            " rmalization)                   )                                                                 \n",
            "                                                                                                  \n",
            " activation_2 (Activation)      (None, 147, 147, 64  0           ['batch_normalization_2[0][0]']  \n",
            "                                )                                                                 \n",
            "                                                                                                  \n",
            " max_pooling2d (MaxPooling2D)   (None, 73, 73, 64)   0           ['activation_2[0][0]']           \n",
            "                                                                                                  \n",
            " conv2d_3 (Conv2D)              (None, 73, 73, 80)   5120        ['max_pooling2d[0][0]']          \n",
            "                                                                                                  \n",
            " batch_normalization_3 (BatchNo  (None, 73, 73, 80)  240         ['conv2d_3[0][0]']               \n",
            " rmalization)                                                                                     \n",
            "                                                                                                  \n",
            " activation_3 (Activation)      (None, 73, 73, 80)   0           ['batch_normalization_3[0][0]']  \n",
            "                                                                                                  \n",
            " conv2d_4 (Conv2D)              (None, 71, 71, 192)  138240      ['activation_3[0][0]']           \n",
            "                                                                                                  \n",
            " batch_normalization_4 (BatchNo  (None, 71, 71, 192)  576        ['conv2d_4[0][0]']               \n",
            " rmalization)                                                                                     \n",
            "                                                                                                  \n",
            " activation_4 (Activation)      (None, 71, 71, 192)  0           ['batch_normalization_4[0][0]']  \n",
            "                                                                                                  \n",
            " max_pooling2d_1 (MaxPooling2D)  (None, 35, 35, 192)  0          ['activation_4[0][0]']           \n",
            "                                                                                                  \n",
            " conv2d_8 (Conv2D)              (None, 35, 35, 64)   12288       ['max_pooling2d_1[0][0]']        \n",
            "                                                                                                  \n",
            " batch_normalization_8 (BatchNo  (None, 35, 35, 64)  192         ['conv2d_8[0][0]']               \n",
            " rmalization)                                                                                     \n",
            "                                                                                                  \n",
            " activation_8 (Activation)      (None, 35, 35, 64)   0           ['batch_normalization_8[0][0]']  \n",
            "                                                                                                  \n",
            " conv2d_6 (Conv2D)              (None, 35, 35, 48)   9216        ['max_pooling2d_1[0][0]']        \n",
            "                                                                                                  \n",
            " conv2d_9 (Conv2D)              (None, 35, 35, 96)   55296       ['activation_8[0][0]']           \n",
            "                                                                                                  \n",
            " batch_normalization_6 (BatchNo  (None, 35, 35, 48)  144         ['conv2d_6[0][0]']               \n",
            " rmalization)                                                                                     \n",
            "                                                                                                  \n",
            " batch_normalization_9 (BatchNo  (None, 35, 35, 96)  288         ['conv2d_9[0][0]']               \n",
            " rmalization)                                                                                     \n",
            "                                                                                                  \n",
            " activation_6 (Activation)      (None, 35, 35, 48)   0           ['batch_normalization_6[0][0]']  \n",
            "                                                                                                  \n",
            " activation_9 (Activation)      (None, 35, 35, 96)   0           ['batch_normalization_9[0][0]']  \n",
            "                                                                                                  \n",
            " average_pooling2d (AveragePool  (None, 35, 35, 192)  0          ['max_pooling2d_1[0][0]']        \n",
            " ing2D)                                                                                           \n",
            "                                                                                                  \n",
            " conv2d_5 (Conv2D)              (None, 35, 35, 64)   12288       ['max_pooling2d_1[0][0]']        \n",
            "                                                                                                  \n",
            " conv2d_7 (Conv2D)              (None, 35, 35, 64)   76800       ['activation_6[0][0]']           \n",
            "                                                                                                  \n",
            " conv2d_10 (Conv2D)             (None, 35, 35, 96)   82944       ['activation_9[0][0]']           \n",
            "                                                                                                  \n",
            " conv2d_11 (Conv2D)             (None, 35, 35, 32)   6144        ['average_pooling2d[0][0]']      \n",
            "                                                                                                  \n",
            " batch_normalization_5 (BatchNo  (None, 35, 35, 64)  192         ['conv2d_5[0][0]']               \n",
            " rmalization)                                                                                     \n",
            "                                                                                                  \n",
            " batch_normalization_7 (BatchNo  (None, 35, 35, 64)  192         ['conv2d_7[0][0]']               \n",
            " rmalization)                                                                                     \n",
            "                                                                                                  \n",
            " batch_normalization_10 (BatchN  (None, 35, 35, 96)  288         ['conv2d_10[0][0]']              \n",
            " ormalization)                                                                                    \n",
            "                                                                                                  \n",
            " batch_normalization_11 (BatchN  (None, 35, 35, 32)  96          ['conv2d_11[0][0]']              \n",
            " ormalization)                                                                                    \n",
            "                                                                                                  \n",
            " activation_5 (Activation)      (None, 35, 35, 64)   0           ['batch_normalization_5[0][0]']  \n",
            "                                                                                                  \n",
            " activation_7 (Activation)      (None, 35, 35, 64)   0           ['batch_normalization_7[0][0]']  \n",
            "                                                                                                  \n",
            " activation_10 (Activation)     (None, 35, 35, 96)   0           ['batch_normalization_10[0][0]'] \n",
            "                                                                                                  \n",
            " activation_11 (Activation)     (None, 35, 35, 32)   0           ['batch_normalization_11[0][0]'] \n",
            "                                                                                                  \n",
            " mixed0 (Concatenate)           (None, 35, 35, 256)  0           ['activation_5[0][0]',           \n",
            "                                                                  'activation_7[0][0]',           \n",
            "                                                                  'activation_10[0][0]',          \n",
            "                                                                  'activation_11[0][0]']          \n",
            "                                                                                                  \n",
            " conv2d_15 (Conv2D)             (None, 35, 35, 64)   16384       ['mixed0[0][0]']                 \n",
            "                                                                                                  \n",
            " batch_normalization_15 (BatchN  (None, 35, 35, 64)  192         ['conv2d_15[0][0]']              \n",
            " ormalization)                                                                                    \n",
            "                                                                                                  \n",
            " activation_15 (Activation)     (None, 35, 35, 64)   0           ['batch_normalization_15[0][0]'] \n",
            "                                                                                                  \n",
            " conv2d_13 (Conv2D)             (None, 35, 35, 48)   12288       ['mixed0[0][0]']                 \n",
            "                                                                                                  \n",
            " conv2d_16 (Conv2D)             (None, 35, 35, 96)   55296       ['activation_15[0][0]']          \n",
            "                                                                                                  \n",
            " batch_normalization_13 (BatchN  (None, 35, 35, 48)  144         ['conv2d_13[0][0]']              \n",
            " ormalization)                                                                                    \n",
            "                                                                                                  \n",
            " batch_normalization_16 (BatchN  (None, 35, 35, 96)  288         ['conv2d_16[0][0]']              \n",
            " ormalization)                                                                                    \n",
            "                                                                                                  \n",
            " activation_13 (Activation)     (None, 35, 35, 48)   0           ['batch_normalization_13[0][0]'] \n",
            "                                                                                                  \n",
            " activation_16 (Activation)     (None, 35, 35, 96)   0           ['batch_normalization_16[0][0]'] \n",
            "                                                                                                  \n",
            " average_pooling2d_1 (AveragePo  (None, 35, 35, 256)  0          ['mixed0[0][0]']                 \n",
            " oling2D)                                                                                         \n",
            "                                                                                                  \n",
            " conv2d_12 (Conv2D)             (None, 35, 35, 64)   16384       ['mixed0[0][0]']                 \n",
            "                                                                                                  \n",
            " conv2d_14 (Conv2D)             (None, 35, 35, 64)   76800       ['activation_13[0][0]']          \n",
            "                                                                                                  \n",
            " conv2d_17 (Conv2D)             (None, 35, 35, 96)   82944       ['activation_16[0][0]']          \n",
            "                                                                                                  \n",
            " conv2d_18 (Conv2D)             (None, 35, 35, 64)   16384       ['average_pooling2d_1[0][0]']    \n",
            "                                                                                                  \n",
            " batch_normalization_12 (BatchN  (None, 35, 35, 64)  192         ['conv2d_12[0][0]']              \n",
            " ormalization)                                                                                    \n",
            "                                                                                                  \n",
            " batch_normalization_14 (BatchN  (None, 35, 35, 64)  192         ['conv2d_14[0][0]']              \n",
            " ormalization)                                                                                    \n",
            "                                                                                                  \n",
            " batch_normalization_17 (BatchN  (None, 35, 35, 96)  288         ['conv2d_17[0][0]']              \n",
            " ormalization)                                                                                    \n",
            "                                                                                                  \n",
            " batch_normalization_18 (BatchN  (None, 35, 35, 64)  192         ['conv2d_18[0][0]']              \n",
            " ormalization)                                                                                    \n",
            "                                                                                                  \n",
            " activation_12 (Activation)     (None, 35, 35, 64)   0           ['batch_normalization_12[0][0]'] \n",
            "                                                                                                  \n",
            " activation_14 (Activation)     (None, 35, 35, 64)   0           ['batch_normalization_14[0][0]'] \n",
            "                                                                                                  \n",
            " activation_17 (Activation)     (None, 35, 35, 96)   0           ['batch_normalization_17[0][0]'] \n",
            "                                                                                                  \n",
            " activation_18 (Activation)     (None, 35, 35, 64)   0           ['batch_normalization_18[0][0]'] \n",
            "                                                                                                  \n",
            " mixed1 (Concatenate)           (None, 35, 35, 288)  0           ['activation_12[0][0]',          \n",
            "                                                                  'activation_14[0][0]',          \n",
            "                                                                  'activation_17[0][0]',          \n",
            "                                                                  'activation_18[0][0]']          \n",
            "                                                                                                  \n",
            " conv2d_22 (Conv2D)             (None, 35, 35, 64)   18432       ['mixed1[0][0]']                 \n",
            "                                                                                                  \n",
            " batch_normalization_22 (BatchN  (None, 35, 35, 64)  192         ['conv2d_22[0][0]']              \n",
            " ormalization)                                                                                    \n",
            "                                                                                                  \n",
            " activation_22 (Activation)     (None, 35, 35, 64)   0           ['batch_normalization_22[0][0]'] \n",
            "                                                                                                  \n",
            " conv2d_20 (Conv2D)             (None, 35, 35, 48)   13824       ['mixed1[0][0]']                 \n",
            "                                                                                                  \n",
            " conv2d_23 (Conv2D)             (None, 35, 35, 96)   55296       ['activation_22[0][0]']          \n",
            "                                                                                                  \n",
            " batch_normalization_20 (BatchN  (None, 35, 35, 48)  144         ['conv2d_20[0][0]']              \n",
            " ormalization)                                                                                    \n",
            "                                                                                                  \n",
            " batch_normalization_23 (BatchN  (None, 35, 35, 96)  288         ['conv2d_23[0][0]']              \n",
            " ormalization)                                                                                    \n",
            "                                                                                                  \n",
            " activation_20 (Activation)     (None, 35, 35, 48)   0           ['batch_normalization_20[0][0]'] \n",
            "                                                                                                  \n",
            " activation_23 (Activation)     (None, 35, 35, 96)   0           ['batch_normalization_23[0][0]'] \n",
            "                                                                                                  \n",
            " average_pooling2d_2 (AveragePo  (None, 35, 35, 288)  0          ['mixed1[0][0]']                 \n",
            " oling2D)                                                                                         \n",
            "                                                                                                  \n",
            " conv2d_19 (Conv2D)             (None, 35, 35, 64)   18432       ['mixed1[0][0]']                 \n",
            "                                                                                                  \n",
            " conv2d_21 (Conv2D)             (None, 35, 35, 64)   76800       ['activation_20[0][0]']          \n",
            "                                                                                                  \n",
            " conv2d_24 (Conv2D)             (None, 35, 35, 96)   82944       ['activation_23[0][0]']          \n",
            "                                                                                                  \n",
            " conv2d_25 (Conv2D)             (None, 35, 35, 64)   18432       ['average_pooling2d_2[0][0]']    \n",
            "                                                                                                  \n",
            " batch_normalization_19 (BatchN  (None, 35, 35, 64)  192         ['conv2d_19[0][0]']              \n",
            " ormalization)                                                                                    \n",
            "                                                                                                  \n",
            " batch_normalization_21 (BatchN  (None, 35, 35, 64)  192         ['conv2d_21[0][0]']              \n",
            " ormalization)                                                                                    \n",
            "                                                                                                  \n",
            " batch_normalization_24 (BatchN  (None, 35, 35, 96)  288         ['conv2d_24[0][0]']              \n",
            " ormalization)                                                                                    \n",
            "                                                                                                  \n",
            " batch_normalization_25 (BatchN  (None, 35, 35, 64)  192         ['conv2d_25[0][0]']              \n",
            " ormalization)                                                                                    \n",
            "                                                                                                  \n",
            " activation_19 (Activation)     (None, 35, 35, 64)   0           ['batch_normalization_19[0][0]'] \n",
            "                                                                                                  \n",
            " activation_21 (Activation)     (None, 35, 35, 64)   0           ['batch_normalization_21[0][0]'] \n",
            "                                                                                                  \n",
            " activation_24 (Activation)     (None, 35, 35, 96)   0           ['batch_normalization_24[0][0]'] \n",
            "                                                                                                  \n",
            " activation_25 (Activation)     (None, 35, 35, 64)   0           ['batch_normalization_25[0][0]'] \n",
            "                                                                                                  \n",
            " mixed2 (Concatenate)           (None, 35, 35, 288)  0           ['activation_19[0][0]',          \n",
            "                                                                  'activation_21[0][0]',          \n",
            "                                                                  'activation_24[0][0]',          \n",
            "                                                                  'activation_25[0][0]']          \n",
            "                                                                                                  \n",
            " conv2d_27 (Conv2D)             (None, 35, 35, 64)   18432       ['mixed2[0][0]']                 \n",
            "                                                                                                  \n",
            " batch_normalization_27 (BatchN  (None, 35, 35, 64)  192         ['conv2d_27[0][0]']              \n",
            " ormalization)                                                                                    \n",
            "                                                                                                  \n",
            " activation_27 (Activation)     (None, 35, 35, 64)   0           ['batch_normalization_27[0][0]'] \n",
            "                                                                                                  \n",
            " conv2d_28 (Conv2D)             (None, 35, 35, 96)   55296       ['activation_27[0][0]']          \n",
            "                                                                                                  \n",
            " batch_normalization_28 (BatchN  (None, 35, 35, 96)  288         ['conv2d_28[0][0]']              \n",
            " ormalization)                                                                                    \n",
            "                                                                                                  \n",
            " activation_28 (Activation)     (None, 35, 35, 96)   0           ['batch_normalization_28[0][0]'] \n",
            "                                                                                                  \n",
            " conv2d_26 (Conv2D)             (None, 17, 17, 384)  995328      ['mixed2[0][0]']                 \n",
            "                                                                                                  \n",
            " conv2d_29 (Conv2D)             (None, 17, 17, 96)   82944       ['activation_28[0][0]']          \n",
            "                                                                                                  \n",
            " batch_normalization_26 (BatchN  (None, 17, 17, 384)  1152       ['conv2d_26[0][0]']              \n",
            " ormalization)                                                                                    \n",
            "                                                                                                  \n",
            " batch_normalization_29 (BatchN  (None, 17, 17, 96)  288         ['conv2d_29[0][0]']              \n",
            " ormalization)                                                                                    \n",
            "                                                                                                  \n",
            " activation_26 (Activation)     (None, 17, 17, 384)  0           ['batch_normalization_26[0][0]'] \n",
            "                                                                                                  \n",
            " activation_29 (Activation)     (None, 17, 17, 96)   0           ['batch_normalization_29[0][0]'] \n",
            "                                                                                                  \n",
            " max_pooling2d_2 (MaxPooling2D)  (None, 17, 17, 288)  0          ['mixed2[0][0]']                 \n",
            "                                                                                                  \n",
            " mixed3 (Concatenate)           (None, 17, 17, 768)  0           ['activation_26[0][0]',          \n",
            "                                                                  'activation_29[0][0]',          \n",
            "                                                                  'max_pooling2d_2[0][0]']        \n",
            "                                                                                                  \n",
            " conv2d_34 (Conv2D)             (None, 17, 17, 128)  98304       ['mixed3[0][0]']                 \n",
            "                                                                                                  \n",
            " batch_normalization_34 (BatchN  (None, 17, 17, 128)  384        ['conv2d_34[0][0]']              \n",
            " ormalization)                                                                                    \n",
            "                                                                                                  \n",
            " activation_34 (Activation)     (None, 17, 17, 128)  0           ['batch_normalization_34[0][0]'] \n",
            "                                                                                                  \n",
            " conv2d_35 (Conv2D)             (None, 17, 17, 128)  114688      ['activation_34[0][0]']          \n",
            "                                                                                                  \n",
            " batch_normalization_35 (BatchN  (None, 17, 17, 128)  384        ['conv2d_35[0][0]']              \n",
            " ormalization)                                                                                    \n",
            "                                                                                                  \n",
            " activation_35 (Activation)     (None, 17, 17, 128)  0           ['batch_normalization_35[0][0]'] \n",
            "                                                                                                  \n",
            " conv2d_31 (Conv2D)             (None, 17, 17, 128)  98304       ['mixed3[0][0]']                 \n",
            "                                                                                                  \n",
            " conv2d_36 (Conv2D)             (None, 17, 17, 128)  114688      ['activation_35[0][0]']          \n",
            "                                                                                                  \n",
            " batch_normalization_31 (BatchN  (None, 17, 17, 128)  384        ['conv2d_31[0][0]']              \n",
            " ormalization)                                                                                    \n",
            "                                                                                                  \n",
            " batch_normalization_36 (BatchN  (None, 17, 17, 128)  384        ['conv2d_36[0][0]']              \n",
            " ormalization)                                                                                    \n",
            "                                                                                                  \n",
            " activation_31 (Activation)     (None, 17, 17, 128)  0           ['batch_normalization_31[0][0]'] \n",
            "                                                                                                  \n",
            " activation_36 (Activation)     (None, 17, 17, 128)  0           ['batch_normalization_36[0][0]'] \n",
            "                                                                                                  \n",
            " conv2d_32 (Conv2D)             (None, 17, 17, 128)  114688      ['activation_31[0][0]']          \n",
            "                                                                                                  \n",
            " conv2d_37 (Conv2D)             (None, 17, 17, 128)  114688      ['activation_36[0][0]']          \n",
            "                                                                                                  \n",
            " batch_normalization_32 (BatchN  (None, 17, 17, 128)  384        ['conv2d_32[0][0]']              \n",
            " ormalization)                                                                                    \n",
            "                                                                                                  \n",
            " batch_normalization_37 (BatchN  (None, 17, 17, 128)  384        ['conv2d_37[0][0]']              \n",
            " ormalization)                                                                                    \n",
            "                                                                                                  \n",
            " activation_32 (Activation)     (None, 17, 17, 128)  0           ['batch_normalization_32[0][0]'] \n",
            "                                                                                                  \n",
            " activation_37 (Activation)     (None, 17, 17, 128)  0           ['batch_normalization_37[0][0]'] \n",
            "                                                                                                  \n",
            " average_pooling2d_3 (AveragePo  (None, 17, 17, 768)  0          ['mixed3[0][0]']                 \n",
            " oling2D)                                                                                         \n",
            "                                                                                                  \n",
            " conv2d_30 (Conv2D)             (None, 17, 17, 192)  147456      ['mixed3[0][0]']                 \n",
            "                                                                                                  \n",
            " conv2d_33 (Conv2D)             (None, 17, 17, 192)  172032      ['activation_32[0][0]']          \n",
            "                                                                                                  \n",
            " conv2d_38 (Conv2D)             (None, 17, 17, 192)  172032      ['activation_37[0][0]']          \n",
            "                                                                                                  \n",
            " conv2d_39 (Conv2D)             (None, 17, 17, 192)  147456      ['average_pooling2d_3[0][0]']    \n",
            "                                                                                                  \n",
            " batch_normalization_30 (BatchN  (None, 17, 17, 192)  576        ['conv2d_30[0][0]']              \n",
            " ormalization)                                                                                    \n",
            "                                                                                                  \n",
            " batch_normalization_33 (BatchN  (None, 17, 17, 192)  576        ['conv2d_33[0][0]']              \n",
            " ormalization)                                                                                    \n",
            "                                                                                                  \n",
            " batch_normalization_38 (BatchN  (None, 17, 17, 192)  576        ['conv2d_38[0][0]']              \n",
            " ormalization)                                                                                    \n",
            "                                                                                                  \n",
            " batch_normalization_39 (BatchN  (None, 17, 17, 192)  576        ['conv2d_39[0][0]']              \n",
            " ormalization)                                                                                    \n",
            "                                                                                                  \n",
            " activation_30 (Activation)     (None, 17, 17, 192)  0           ['batch_normalization_30[0][0]'] \n",
            "                                                                                                  \n",
            " activation_33 (Activation)     (None, 17, 17, 192)  0           ['batch_normalization_33[0][0]'] \n",
            "                                                                                                  \n",
            " activation_38 (Activation)     (None, 17, 17, 192)  0           ['batch_normalization_38[0][0]'] \n",
            "                                                                                                  \n",
            " activation_39 (Activation)     (None, 17, 17, 192)  0           ['batch_normalization_39[0][0]'] \n",
            "                                                                                                  \n",
            " mixed4 (Concatenate)           (None, 17, 17, 768)  0           ['activation_30[0][0]',          \n",
            "                                                                  'activation_33[0][0]',          \n",
            "                                                                  'activation_38[0][0]',          \n",
            "                                                                  'activation_39[0][0]']          \n",
            "                                                                                                  \n",
            " conv2d_44 (Conv2D)             (None, 17, 17, 160)  122880      ['mixed4[0][0]']                 \n",
            "                                                                                                  \n",
            " batch_normalization_44 (BatchN  (None, 17, 17, 160)  480        ['conv2d_44[0][0]']              \n",
            " ormalization)                                                                                    \n",
            "                                                                                                  \n",
            " activation_44 (Activation)     (None, 17, 17, 160)  0           ['batch_normalization_44[0][0]'] \n",
            "                                                                                                  \n",
            " conv2d_45 (Conv2D)             (None, 17, 17, 160)  179200      ['activation_44[0][0]']          \n",
            "                                                                                                  \n",
            " batch_normalization_45 (BatchN  (None, 17, 17, 160)  480        ['conv2d_45[0][0]']              \n",
            " ormalization)                                                                                    \n",
            "                                                                                                  \n",
            " activation_45 (Activation)     (None, 17, 17, 160)  0           ['batch_normalization_45[0][0]'] \n",
            "                                                                                                  \n",
            " conv2d_41 (Conv2D)             (None, 17, 17, 160)  122880      ['mixed4[0][0]']                 \n",
            "                                                                                                  \n",
            " conv2d_46 (Conv2D)             (None, 17, 17, 160)  179200      ['activation_45[0][0]']          \n",
            "                                                                                                  \n",
            " batch_normalization_41 (BatchN  (None, 17, 17, 160)  480        ['conv2d_41[0][0]']              \n",
            " ormalization)                                                                                    \n",
            "                                                                                                  \n",
            " batch_normalization_46 (BatchN  (None, 17, 17, 160)  480        ['conv2d_46[0][0]']              \n",
            " ormalization)                                                                                    \n",
            "                                                                                                  \n",
            " activation_41 (Activation)     (None, 17, 17, 160)  0           ['batch_normalization_41[0][0]'] \n",
            "                                                                                                  \n",
            " activation_46 (Activation)     (None, 17, 17, 160)  0           ['batch_normalization_46[0][0]'] \n",
            "                                                                                                  \n",
            " conv2d_42 (Conv2D)             (None, 17, 17, 160)  179200      ['activation_41[0][0]']          \n",
            "                                                                                                  \n",
            " conv2d_47 (Conv2D)             (None, 17, 17, 160)  179200      ['activation_46[0][0]']          \n",
            "                                                                                                  \n",
            " batch_normalization_42 (BatchN  (None, 17, 17, 160)  480        ['conv2d_42[0][0]']              \n",
            " ormalization)                                                                                    \n",
            "                                                                                                  \n",
            " batch_normalization_47 (BatchN  (None, 17, 17, 160)  480        ['conv2d_47[0][0]']              \n",
            " ormalization)                                                                                    \n",
            "                                                                                                  \n",
            " activation_42 (Activation)     (None, 17, 17, 160)  0           ['batch_normalization_42[0][0]'] \n",
            "                                                                                                  \n",
            " activation_47 (Activation)     (None, 17, 17, 160)  0           ['batch_normalization_47[0][0]'] \n",
            "                                                                                                  \n",
            " average_pooling2d_4 (AveragePo  (None, 17, 17, 768)  0          ['mixed4[0][0]']                 \n",
            " oling2D)                                                                                         \n",
            "                                                                                                  \n",
            " conv2d_40 (Conv2D)             (None, 17, 17, 192)  147456      ['mixed4[0][0]']                 \n",
            "                                                                                                  \n",
            " conv2d_43 (Conv2D)             (None, 17, 17, 192)  215040      ['activation_42[0][0]']          \n",
            "                                                                                                  \n",
            " conv2d_48 (Conv2D)             (None, 17, 17, 192)  215040      ['activation_47[0][0]']          \n",
            "                                                                                                  \n",
            " conv2d_49 (Conv2D)             (None, 17, 17, 192)  147456      ['average_pooling2d_4[0][0]']    \n",
            "                                                                                                  \n",
            " batch_normalization_40 (BatchN  (None, 17, 17, 192)  576        ['conv2d_40[0][0]']              \n",
            " ormalization)                                                                                    \n",
            "                                                                                                  \n",
            " batch_normalization_43 (BatchN  (None, 17, 17, 192)  576        ['conv2d_43[0][0]']              \n",
            " ormalization)                                                                                    \n",
            "                                                                                                  \n",
            " batch_normalization_48 (BatchN  (None, 17, 17, 192)  576        ['conv2d_48[0][0]']              \n",
            " ormalization)                                                                                    \n",
            "                                                                                                  \n",
            " batch_normalization_49 (BatchN  (None, 17, 17, 192)  576        ['conv2d_49[0][0]']              \n",
            " ormalization)                                                                                    \n",
            "                                                                                                  \n",
            " activation_40 (Activation)     (None, 17, 17, 192)  0           ['batch_normalization_40[0][0]'] \n",
            "                                                                                                  \n",
            " activation_43 (Activation)     (None, 17, 17, 192)  0           ['batch_normalization_43[0][0]'] \n",
            "                                                                                                  \n",
            " activation_48 (Activation)     (None, 17, 17, 192)  0           ['batch_normalization_48[0][0]'] \n",
            "                                                                                                  \n",
            " activation_49 (Activation)     (None, 17, 17, 192)  0           ['batch_normalization_49[0][0]'] \n",
            "                                                                                                  \n",
            " mixed5 (Concatenate)           (None, 17, 17, 768)  0           ['activation_40[0][0]',          \n",
            "                                                                  'activation_43[0][0]',          \n",
            "                                                                  'activation_48[0][0]',          \n",
            "                                                                  'activation_49[0][0]']          \n",
            "                                                                                                  \n",
            " conv2d_54 (Conv2D)             (None, 17, 17, 160)  122880      ['mixed5[0][0]']                 \n",
            "                                                                                                  \n",
            " batch_normalization_54 (BatchN  (None, 17, 17, 160)  480        ['conv2d_54[0][0]']              \n",
            " ormalization)                                                                                    \n",
            "                                                                                                  \n",
            " activation_54 (Activation)     (None, 17, 17, 160)  0           ['batch_normalization_54[0][0]'] \n",
            "                                                                                                  \n",
            " conv2d_55 (Conv2D)             (None, 17, 17, 160)  179200      ['activation_54[0][0]']          \n",
            "                                                                                                  \n",
            " batch_normalization_55 (BatchN  (None, 17, 17, 160)  480        ['conv2d_55[0][0]']              \n",
            " ormalization)                                                                                    \n",
            "                                                                                                  \n",
            " activation_55 (Activation)     (None, 17, 17, 160)  0           ['batch_normalization_55[0][0]'] \n",
            "                                                                                                  \n",
            " conv2d_51 (Conv2D)             (None, 17, 17, 160)  122880      ['mixed5[0][0]']                 \n",
            "                                                                                                  \n",
            " conv2d_56 (Conv2D)             (None, 17, 17, 160)  179200      ['activation_55[0][0]']          \n",
            "                                                                                                  \n",
            " batch_normalization_51 (BatchN  (None, 17, 17, 160)  480        ['conv2d_51[0][0]']              \n",
            " ormalization)                                                                                    \n",
            "                                                                                                  \n",
            " batch_normalization_56 (BatchN  (None, 17, 17, 160)  480        ['conv2d_56[0][0]']              \n",
            " ormalization)                                                                                    \n",
            "                                                                                                  \n",
            " activation_51 (Activation)     (None, 17, 17, 160)  0           ['batch_normalization_51[0][0]'] \n",
            "                                                                                                  \n",
            " activation_56 (Activation)     (None, 17, 17, 160)  0           ['batch_normalization_56[0][0]'] \n",
            "                                                                                                  \n",
            " conv2d_52 (Conv2D)             (None, 17, 17, 160)  179200      ['activation_51[0][0]']          \n",
            "                                                                                                  \n",
            " conv2d_57 (Conv2D)             (None, 17, 17, 160)  179200      ['activation_56[0][0]']          \n",
            "                                                                                                  \n",
            " batch_normalization_52 (BatchN  (None, 17, 17, 160)  480        ['conv2d_52[0][0]']              \n",
            " ormalization)                                                                                    \n",
            "                                                                                                  \n",
            " batch_normalization_57 (BatchN  (None, 17, 17, 160)  480        ['conv2d_57[0][0]']              \n",
            " ormalization)                                                                                    \n",
            "                                                                                                  \n",
            " activation_52 (Activation)     (None, 17, 17, 160)  0           ['batch_normalization_52[0][0]'] \n",
            "                                                                                                  \n",
            " activation_57 (Activation)     (None, 17, 17, 160)  0           ['batch_normalization_57[0][0]'] \n",
            "                                                                                                  \n",
            " average_pooling2d_5 (AveragePo  (None, 17, 17, 768)  0          ['mixed5[0][0]']                 \n",
            " oling2D)                                                                                         \n",
            "                                                                                                  \n",
            " conv2d_50 (Conv2D)             (None, 17, 17, 192)  147456      ['mixed5[0][0]']                 \n",
            "                                                                                                  \n",
            " conv2d_53 (Conv2D)             (None, 17, 17, 192)  215040      ['activation_52[0][0]']          \n",
            "                                                                                                  \n",
            " conv2d_58 (Conv2D)             (None, 17, 17, 192)  215040      ['activation_57[0][0]']          \n",
            "                                                                                                  \n",
            " conv2d_59 (Conv2D)             (None, 17, 17, 192)  147456      ['average_pooling2d_5[0][0]']    \n",
            "                                                                                                  \n",
            " batch_normalization_50 (BatchN  (None, 17, 17, 192)  576        ['conv2d_50[0][0]']              \n",
            " ormalization)                                                                                    \n",
            "                                                                                                  \n",
            " batch_normalization_53 (BatchN  (None, 17, 17, 192)  576        ['conv2d_53[0][0]']              \n",
            " ormalization)                                                                                    \n",
            "                                                                                                  \n",
            " batch_normalization_58 (BatchN  (None, 17, 17, 192)  576        ['conv2d_58[0][0]']              \n",
            " ormalization)                                                                                    \n",
            "                                                                                                  \n",
            " batch_normalization_59 (BatchN  (None, 17, 17, 192)  576        ['conv2d_59[0][0]']              \n",
            " ormalization)                                                                                    \n",
            "                                                                                                  \n",
            " activation_50 (Activation)     (None, 17, 17, 192)  0           ['batch_normalization_50[0][0]'] \n",
            "                                                                                                  \n",
            " activation_53 (Activation)     (None, 17, 17, 192)  0           ['batch_normalization_53[0][0]'] \n",
            "                                                                                                  \n",
            " activation_58 (Activation)     (None, 17, 17, 192)  0           ['batch_normalization_58[0][0]'] \n",
            "                                                                                                  \n",
            " activation_59 (Activation)     (None, 17, 17, 192)  0           ['batch_normalization_59[0][0]'] \n",
            "                                                                                                  \n",
            " mixed6 (Concatenate)           (None, 17, 17, 768)  0           ['activation_50[0][0]',          \n",
            "                                                                  'activation_53[0][0]',          \n",
            "                                                                  'activation_58[0][0]',          \n",
            "                                                                  'activation_59[0][0]']          \n",
            "                                                                                                  \n",
            " conv2d_64 (Conv2D)             (None, 17, 17, 192)  147456      ['mixed6[0][0]']                 \n",
            "                                                                                                  \n",
            " batch_normalization_64 (BatchN  (None, 17, 17, 192)  576        ['conv2d_64[0][0]']              \n",
            " ormalization)                                                                                    \n",
            "                                                                                                  \n",
            " activation_64 (Activation)     (None, 17, 17, 192)  0           ['batch_normalization_64[0][0]'] \n",
            "                                                                                                  \n",
            " conv2d_65 (Conv2D)             (None, 17, 17, 192)  258048      ['activation_64[0][0]']          \n",
            "                                                                                                  \n",
            " batch_normalization_65 (BatchN  (None, 17, 17, 192)  576        ['conv2d_65[0][0]']              \n",
            " ormalization)                                                                                    \n",
            "                                                                                                  \n",
            " activation_65 (Activation)     (None, 17, 17, 192)  0           ['batch_normalization_65[0][0]'] \n",
            "                                                                                                  \n",
            " conv2d_61 (Conv2D)             (None, 17, 17, 192)  147456      ['mixed6[0][0]']                 \n",
            "                                                                                                  \n",
            " conv2d_66 (Conv2D)             (None, 17, 17, 192)  258048      ['activation_65[0][0]']          \n",
            "                                                                                                  \n",
            " batch_normalization_61 (BatchN  (None, 17, 17, 192)  576        ['conv2d_61[0][0]']              \n",
            " ormalization)                                                                                    \n",
            "                                                                                                  \n",
            " batch_normalization_66 (BatchN  (None, 17, 17, 192)  576        ['conv2d_66[0][0]']              \n",
            " ormalization)                                                                                    \n",
            "                                                                                                  \n",
            " activation_61 (Activation)     (None, 17, 17, 192)  0           ['batch_normalization_61[0][0]'] \n",
            "                                                                                                  \n",
            " activation_66 (Activation)     (None, 17, 17, 192)  0           ['batch_normalization_66[0][0]'] \n",
            "                                                                                                  \n",
            " conv2d_62 (Conv2D)             (None, 17, 17, 192)  258048      ['activation_61[0][0]']          \n",
            "                                                                                                  \n",
            " conv2d_67 (Conv2D)             (None, 17, 17, 192)  258048      ['activation_66[0][0]']          \n",
            "                                                                                                  \n",
            " batch_normalization_62 (BatchN  (None, 17, 17, 192)  576        ['conv2d_62[0][0]']              \n",
            " ormalization)                                                                                    \n",
            "                                                                                                  \n",
            " batch_normalization_67 (BatchN  (None, 17, 17, 192)  576        ['conv2d_67[0][0]']              \n",
            " ormalization)                                                                                    \n",
            "                                                                                                  \n",
            " activation_62 (Activation)     (None, 17, 17, 192)  0           ['batch_normalization_62[0][0]'] \n",
            "                                                                                                  \n",
            " activation_67 (Activation)     (None, 17, 17, 192)  0           ['batch_normalization_67[0][0]'] \n",
            "                                                                                                  \n",
            " average_pooling2d_6 (AveragePo  (None, 17, 17, 768)  0          ['mixed6[0][0]']                 \n",
            " oling2D)                                                                                         \n",
            "                                                                                                  \n",
            " conv2d_60 (Conv2D)             (None, 17, 17, 192)  147456      ['mixed6[0][0]']                 \n",
            "                                                                                                  \n",
            " conv2d_63 (Conv2D)             (None, 17, 17, 192)  258048      ['activation_62[0][0]']          \n",
            "                                                                                                  \n",
            " conv2d_68 (Conv2D)             (None, 17, 17, 192)  258048      ['activation_67[0][0]']          \n",
            "                                                                                                  \n",
            " conv2d_69 (Conv2D)             (None, 17, 17, 192)  147456      ['average_pooling2d_6[0][0]']    \n",
            "                                                                                                  \n",
            " batch_normalization_60 (BatchN  (None, 17, 17, 192)  576        ['conv2d_60[0][0]']              \n",
            " ormalization)                                                                                    \n",
            "                                                                                                  \n",
            " batch_normalization_63 (BatchN  (None, 17, 17, 192)  576        ['conv2d_63[0][0]']              \n",
            " ormalization)                                                                                    \n",
            "                                                                                                  \n",
            " batch_normalization_68 (BatchN  (None, 17, 17, 192)  576        ['conv2d_68[0][0]']              \n",
            " ormalization)                                                                                    \n",
            "                                                                                                  \n",
            " batch_normalization_69 (BatchN  (None, 17, 17, 192)  576        ['conv2d_69[0][0]']              \n",
            " ormalization)                                                                                    \n",
            "                                                                                                  \n",
            " activation_60 (Activation)     (None, 17, 17, 192)  0           ['batch_normalization_60[0][0]'] \n",
            "                                                                                                  \n",
            " activation_63 (Activation)     (None, 17, 17, 192)  0           ['batch_normalization_63[0][0]'] \n",
            "                                                                                                  \n",
            " activation_68 (Activation)     (None, 17, 17, 192)  0           ['batch_normalization_68[0][0]'] \n",
            "                                                                                                  \n",
            " activation_69 (Activation)     (None, 17, 17, 192)  0           ['batch_normalization_69[0][0]'] \n",
            "                                                                                                  \n",
            " mixed7 (Concatenate)           (None, 17, 17, 768)  0           ['activation_60[0][0]',          \n",
            "                                                                  'activation_63[0][0]',          \n",
            "                                                                  'activation_68[0][0]',          \n",
            "                                                                  'activation_69[0][0]']          \n",
            "                                                                                                  \n",
            " flatten (Flatten)              (None, 221952)       0           ['mixed7[0][0]']                 \n",
            "                                                                                                  \n",
            " dense (Dense)                  (None, 1024)         227279872   ['flatten[0][0]']                \n",
            "                                                                                                  \n",
            " dropout (Dropout)              (None, 1024)         0           ['dense[0][0]']                  \n",
            "                                                                                                  \n",
            " dense_1 (Dense)                (None, 8)            8200        ['dropout[0][0]']                \n",
            "                                                                                                  \n",
            "==================================================================================================\n",
            "Total params: 236,263,336\n",
            "Trainable params: 227,288,072\n",
            "Non-trainable params: 8,975,264\n",
            "__________________________________________________________________________________________________\n"
          ]
        }
      ],
      "source": [
        "model = create_final_model(pre_trained_model, last_output)\n",
        "model.summary()"
      ],
      "id": "68effd48"
    },
    {
      "cell_type": "markdown",
      "source": [
        "# TRAINING THE MODEL\n",
        "training for 100 epochs"
      ],
      "metadata": {
        "id": "7yE3OWOtImuE"
      },
      "id": "7yE3OWOtImuE"
    },
    {
      "cell_type": "code",
      "execution_count": null,
      "metadata": {
        "colab": {
          "base_uri": "https://localhost:8080/"
        },
        "id": "26e66755",
        "scrolled": true,
        "outputId": "75f514c7-1101-4335-de55-7208e0f22d7b"
      },
      "outputs": [
        {
          "output_type": "stream",
          "name": "stdout",
          "text": [
            "Epoch 1/100\n",
            "44/44 [==============================] - 256s 6s/step - loss: 2.3052 - accuracy: 0.2175 - val_loss: 1.8067 - val_accuracy: 0.2207\n",
            "Epoch 2/100\n",
            "44/44 [==============================] - 21s 485ms/step - loss: 1.7080 - accuracy: 0.3049 - val_loss: 1.3572 - val_accuracy: 0.5000\n",
            "Epoch 3/100\n",
            "44/44 [==============================] - 21s 483ms/step - loss: 1.6012 - accuracy: 0.3337 - val_loss: 1.2684 - val_accuracy: 0.4459\n",
            "Epoch 4/100\n",
            "44/44 [==============================] - 21s 475ms/step - loss: 1.3995 - accuracy: 0.4028 - val_loss: 1.0780 - val_accuracy: 0.5541\n",
            "Epoch 5/100\n",
            "44/44 [==============================] - 21s 479ms/step - loss: 1.2941 - accuracy: 0.4568 - val_loss: 1.0229 - val_accuracy: 0.6306\n",
            "Epoch 6/100\n",
            "44/44 [==============================] - 22s 508ms/step - loss: 1.2452 - accuracy: 0.4776 - val_loss: 1.1414 - val_accuracy: 0.4324\n",
            "Epoch 7/100\n",
            "44/44 [==============================] - 21s 479ms/step - loss: 1.1874 - accuracy: 0.4787 - val_loss: 0.9321 - val_accuracy: 0.6081\n",
            "Epoch 8/100\n",
            "44/44 [==============================] - 21s 478ms/step - loss: 1.1655 - accuracy: 0.4960 - val_loss: 0.8283 - val_accuracy: 0.6937\n",
            "Epoch 9/100\n",
            "44/44 [==============================] - 21s 480ms/step - loss: 1.1317 - accuracy: 0.5501 - val_loss: 1.1437 - val_accuracy: 0.5676\n",
            "Epoch 10/100\n",
            "44/44 [==============================] - 21s 478ms/step - loss: 1.1156 - accuracy: 0.5374 - val_loss: 0.8501 - val_accuracy: 0.6486\n",
            "Epoch 11/100\n",
            "44/44 [==============================] - 22s 505ms/step - loss: 0.9978 - accuracy: 0.5765 - val_loss: 0.7755 - val_accuracy: 0.6622\n",
            "Epoch 12/100\n",
            "44/44 [==============================] - 21s 477ms/step - loss: 1.0511 - accuracy: 0.5558 - val_loss: 1.0296 - val_accuracy: 0.5721\n",
            "Epoch 13/100\n",
            "44/44 [==============================] - 21s 477ms/step - loss: 1.0059 - accuracy: 0.5788 - val_loss: 0.7854 - val_accuracy: 0.6486\n",
            "Epoch 14/100\n",
            "44/44 [==============================] - 21s 477ms/step - loss: 0.9621 - accuracy: 0.5777 - val_loss: 0.7072 - val_accuracy: 0.6712\n",
            "Epoch 15/100\n",
            "44/44 [==============================] - 21s 480ms/step - loss: 0.9759 - accuracy: 0.5823 - val_loss: 0.7061 - val_accuracy: 0.6802\n",
            "Epoch 16/100\n",
            "44/44 [==============================] - 22s 507ms/step - loss: 0.9117 - accuracy: 0.6387 - val_loss: 0.7295 - val_accuracy: 0.7252\n",
            "Epoch 17/100\n",
            "44/44 [==============================] - 21s 486ms/step - loss: 0.8497 - accuracy: 0.6410 - val_loss: 0.6183 - val_accuracy: 0.7568\n",
            "Epoch 18/100\n",
            "44/44 [==============================] - 21s 476ms/step - loss: 0.8687 - accuracy: 0.6283 - val_loss: 0.6977 - val_accuracy: 0.7162\n",
            "Epoch 19/100\n",
            "44/44 [==============================] - 21s 474ms/step - loss: 0.9121 - accuracy: 0.6110 - val_loss: 0.6532 - val_accuracy: 0.7207\n",
            "Epoch 20/100\n",
            "44/44 [==============================] - 21s 478ms/step - loss: 0.8349 - accuracy: 0.6594 - val_loss: 0.6100 - val_accuracy: 0.7432\n",
            "Epoch 21/100\n",
            "44/44 [==============================] - 22s 504ms/step - loss: 0.8284 - accuracy: 0.6490 - val_loss: 0.5984 - val_accuracy: 0.7432\n",
            "Epoch 22/100\n",
            "44/44 [==============================] - 21s 480ms/step - loss: 0.8080 - accuracy: 0.6536 - val_loss: 0.5986 - val_accuracy: 0.7477\n",
            "Epoch 23/100\n",
            "44/44 [==============================] - 21s 478ms/step - loss: 0.7779 - accuracy: 0.6778 - val_loss: 0.7276 - val_accuracy: 0.6577\n",
            "Epoch 24/100\n",
            "44/44 [==============================] - 21s 479ms/step - loss: 0.8278 - accuracy: 0.6398 - val_loss: 0.6184 - val_accuracy: 0.7523\n",
            "Epoch 25/100\n",
            "44/44 [==============================] - 21s 477ms/step - loss: 0.7633 - accuracy: 0.6755 - val_loss: 0.5860 - val_accuracy: 0.7072\n",
            "Epoch 26/100\n",
            "44/44 [==============================] - 22s 505ms/step - loss: 0.8180 - accuracy: 0.6272 - val_loss: 0.7242 - val_accuracy: 0.6802\n",
            "Epoch 27/100\n",
            "44/44 [==============================] - 21s 476ms/step - loss: 0.7664 - accuracy: 0.6617 - val_loss: 0.6144 - val_accuracy: 0.7342\n",
            "Epoch 28/100\n",
            "44/44 [==============================] - 21s 478ms/step - loss: 0.7602 - accuracy: 0.6801 - val_loss: 0.6032 - val_accuracy: 0.7162\n",
            "Epoch 29/100\n",
            "44/44 [==============================] - 21s 477ms/step - loss: 0.7275 - accuracy: 0.6870 - val_loss: 0.5753 - val_accuracy: 0.7297\n",
            "Epoch 30/100\n",
            "44/44 [==============================] - 21s 477ms/step - loss: 0.7617 - accuracy: 0.6824 - val_loss: 0.6457 - val_accuracy: 0.6982\n",
            "Epoch 31/100\n",
            "44/44 [==============================] - 22s 506ms/step - loss: 0.7213 - accuracy: 0.6974 - val_loss: 0.5795 - val_accuracy: 0.7523\n",
            "Epoch 32/100\n",
            "44/44 [==============================] - 21s 482ms/step - loss: 0.7211 - accuracy: 0.6847 - val_loss: 0.5773 - val_accuracy: 0.7432\n",
            "Epoch 33/100\n",
            "44/44 [==============================] - 21s 477ms/step - loss: 0.7654 - accuracy: 0.6686 - val_loss: 0.5961 - val_accuracy: 0.7613\n",
            "Epoch 34/100\n",
            "44/44 [==============================] - 21s 477ms/step - loss: 0.7224 - accuracy: 0.6928 - val_loss: 0.5148 - val_accuracy: 0.7793\n",
            "Epoch 35/100\n",
            "44/44 [==============================] - 22s 501ms/step - loss: 0.6452 - accuracy: 0.7284 - val_loss: 0.5645 - val_accuracy: 0.7027\n",
            "Epoch 36/100\n",
            "44/44 [==============================] - 21s 476ms/step - loss: 0.7071 - accuracy: 0.6916 - val_loss: 0.5320 - val_accuracy: 0.7613\n",
            "Epoch 37/100\n",
            "44/44 [==============================] - 21s 475ms/step - loss: 0.6374 - accuracy: 0.7146 - val_loss: 0.5888 - val_accuracy: 0.7297\n",
            "Epoch 38/100\n",
            "44/44 [==============================] - 21s 477ms/step - loss: 0.6172 - accuracy: 0.7468 - val_loss: 0.5530 - val_accuracy: 0.7477\n",
            "Epoch 39/100\n",
            "44/44 [==============================] - 21s 482ms/step - loss: 0.6996 - accuracy: 0.7227 - val_loss: 0.5670 - val_accuracy: 0.7658\n",
            "Epoch 40/100\n",
            "44/44 [==============================] - 21s 475ms/step - loss: 0.6522 - accuracy: 0.7181 - val_loss: 0.4962 - val_accuracy: 0.7928\n",
            "Epoch 41/100\n",
            "44/44 [==============================] - 21s 478ms/step - loss: 0.6427 - accuracy: 0.7261 - val_loss: 0.4979 - val_accuracy: 0.8063\n",
            "Epoch 42/100\n",
            "44/44 [==============================] - 21s 475ms/step - loss: 0.6344 - accuracy: 0.7376 - val_loss: 0.6698 - val_accuracy: 0.6937\n",
            "Epoch 43/100\n",
            "44/44 [==============================] - 21s 478ms/step - loss: 0.6376 - accuracy: 0.7411 - val_loss: 0.4772 - val_accuracy: 0.7838\n",
            "Epoch 44/100\n",
            "44/44 [==============================] - 22s 506ms/step - loss: 0.6191 - accuracy: 0.7319 - val_loss: 0.5513 - val_accuracy: 0.7658\n",
            "Epoch 45/100\n",
            "44/44 [==============================] - 21s 476ms/step - loss: 0.6248 - accuracy: 0.7273 - val_loss: 0.4764 - val_accuracy: 0.7883\n",
            "Epoch 46/100\n",
            "44/44 [==============================] - 21s 473ms/step - loss: 0.5911 - accuracy: 0.7583 - val_loss: 0.4802 - val_accuracy: 0.7973\n",
            "Epoch 47/100\n",
            "44/44 [==============================] - 21s 475ms/step - loss: 0.5804 - accuracy: 0.7434 - val_loss: 0.6008 - val_accuracy: 0.7523\n",
            "Epoch 48/100\n",
            "44/44 [==============================] - 21s 477ms/step - loss: 0.5871 - accuracy: 0.7526 - val_loss: 0.5585 - val_accuracy: 0.7613\n",
            "Epoch 49/100\n",
            "44/44 [==============================] - 22s 502ms/step - loss: 0.6328 - accuracy: 0.7319 - val_loss: 0.4791 - val_accuracy: 0.8063\n",
            "Epoch 50/100\n",
            "44/44 [==============================] - 21s 474ms/step - loss: 0.5693 - accuracy: 0.7687 - val_loss: 0.4920 - val_accuracy: 0.8063\n",
            "Epoch 51/100\n",
            "44/44 [==============================] - 21s 477ms/step - loss: 0.5642 - accuracy: 0.7733 - val_loss: 0.4665 - val_accuracy: 0.7883\n",
            "Epoch 52/100\n",
            "44/44 [==============================] - 21s 478ms/step - loss: 0.5752 - accuracy: 0.7434 - val_loss: 0.4973 - val_accuracy: 0.7928\n",
            "Epoch 53/100\n",
            "44/44 [==============================] - 22s 496ms/step - loss: 0.5759 - accuracy: 0.7514 - val_loss: 0.6235 - val_accuracy: 0.7297\n",
            "Epoch 54/100\n",
            "44/44 [==============================] - 21s 475ms/step - loss: 0.5507 - accuracy: 0.7491 - val_loss: 0.5066 - val_accuracy: 0.7793\n",
            "Epoch 55/100\n",
            "44/44 [==============================] - 21s 476ms/step - loss: 0.5445 - accuracy: 0.7664 - val_loss: 0.4974 - val_accuracy: 0.7748\n",
            "Epoch 56/100\n",
            "44/44 [==============================] - 21s 476ms/step - loss: 0.5490 - accuracy: 0.7756 - val_loss: 0.5185 - val_accuracy: 0.7883\n",
            "Epoch 57/100\n",
            "44/44 [==============================] - 21s 474ms/step - loss: 0.5404 - accuracy: 0.7675 - val_loss: 0.4835 - val_accuracy: 0.8108\n",
            "Epoch 58/100\n",
            "44/44 [==============================] - 22s 509ms/step - loss: 0.5694 - accuracy: 0.7503 - val_loss: 0.4810 - val_accuracy: 0.7748\n",
            "Epoch 59/100\n",
            "44/44 [==============================] - 21s 478ms/step - loss: 0.5470 - accuracy: 0.7768 - val_loss: 0.4941 - val_accuracy: 0.7748\n",
            "Epoch 60/100\n",
            "44/44 [==============================] - 21s 478ms/step - loss: 0.5250 - accuracy: 0.7929 - val_loss: 0.4430 - val_accuracy: 0.8333\n",
            "Epoch 61/100\n",
            "44/44 [==============================] - 21s 474ms/step - loss: 0.5668 - accuracy: 0.7572 - val_loss: 0.7023 - val_accuracy: 0.7252\n",
            "Epoch 62/100\n",
            "44/44 [==============================] - 21s 473ms/step - loss: 0.5285 - accuracy: 0.7664 - val_loss: 0.4764 - val_accuracy: 0.8243\n",
            "Epoch 63/100\n",
            "44/44 [==============================] - 22s 507ms/step - loss: 0.5377 - accuracy: 0.7894 - val_loss: 0.5207 - val_accuracy: 0.7613\n",
            "Epoch 64/100\n",
            "44/44 [==============================] - 21s 477ms/step - loss: 0.5137 - accuracy: 0.7675 - val_loss: 0.5494 - val_accuracy: 0.7387\n",
            "Epoch 65/100\n",
            "44/44 [==============================] - 21s 476ms/step - loss: 0.5388 - accuracy: 0.7802 - val_loss: 0.5626 - val_accuracy: 0.7793\n",
            "Epoch 66/100\n",
            "44/44 [==============================] - 21s 474ms/step - loss: 0.5177 - accuracy: 0.7756 - val_loss: 0.4340 - val_accuracy: 0.8243\n",
            "Epoch 67/100\n",
            "44/44 [==============================] - 21s 478ms/step - loss: 0.5143 - accuracy: 0.7837 - val_loss: 0.4536 - val_accuracy: 0.7928\n",
            "Epoch 68/100\n",
            "44/44 [==============================] - 22s 504ms/step - loss: 0.4742 - accuracy: 0.8044 - val_loss: 0.4923 - val_accuracy: 0.7973\n",
            "Epoch 69/100\n",
            "44/44 [==============================] - 21s 475ms/step - loss: 0.5218 - accuracy: 0.7641 - val_loss: 0.5685 - val_accuracy: 0.7838\n",
            "Epoch 70/100\n",
            "44/44 [==============================] - 21s 477ms/step - loss: 0.5700 - accuracy: 0.7572 - val_loss: 0.5146 - val_accuracy: 0.7928\n",
            "Epoch 71/100\n",
            "44/44 [==============================] - 21s 475ms/step - loss: 0.4923 - accuracy: 0.7940 - val_loss: 0.5517 - val_accuracy: 0.7523\n",
            "Epoch 72/100\n",
            "44/44 [==============================] - 21s 475ms/step - loss: 0.4110 - accuracy: 0.8251 - val_loss: 0.5267 - val_accuracy: 0.7838\n",
            "Epoch 73/100\n",
            "44/44 [==============================] - 22s 507ms/step - loss: 0.5220 - accuracy: 0.7860 - val_loss: 0.4898 - val_accuracy: 0.7748\n",
            "Epoch 74/100\n",
            "44/44 [==============================] - 21s 476ms/step - loss: 0.4617 - accuracy: 0.7998 - val_loss: 0.4699 - val_accuracy: 0.8108\n",
            "Epoch 75/100\n",
            "44/44 [==============================] - 21s 477ms/step - loss: 0.4946 - accuracy: 0.7986 - val_loss: 0.5271 - val_accuracy: 0.7928\n",
            "Epoch 76/100\n",
            "44/44 [==============================] - 21s 474ms/step - loss: 0.4750 - accuracy: 0.7940 - val_loss: 0.4861 - val_accuracy: 0.7523\n",
            "Epoch 77/100\n",
            "44/44 [==============================] - 21s 476ms/step - loss: 0.4334 - accuracy: 0.8205 - val_loss: 0.5707 - val_accuracy: 0.7658\n",
            "Epoch 78/100\n",
            "44/44 [==============================] - 22s 507ms/step - loss: 0.4722 - accuracy: 0.7975 - val_loss: 0.4829 - val_accuracy: 0.8018\n",
            "Epoch 79/100\n",
            "44/44 [==============================] - 21s 477ms/step - loss: 0.4532 - accuracy: 0.8285 - val_loss: 0.4385 - val_accuracy: 0.8198\n",
            "Epoch 80/100\n",
            "44/44 [==============================] - 21s 474ms/step - loss: 0.4426 - accuracy: 0.8055 - val_loss: 0.4651 - val_accuracy: 0.8153\n",
            "Epoch 81/100\n",
            "44/44 [==============================] - 21s 475ms/step - loss: 0.4394 - accuracy: 0.8124 - val_loss: 0.4988 - val_accuracy: 0.7748\n",
            "Epoch 82/100\n",
            "44/44 [==============================] - 21s 475ms/step - loss: 0.4792 - accuracy: 0.7986 - val_loss: 1.0519 - val_accuracy: 0.6577\n",
            "Epoch 83/100\n",
            "44/44 [==============================] - 22s 503ms/step - loss: 0.4687 - accuracy: 0.8009 - val_loss: 0.6489 - val_accuracy: 0.7117\n",
            "Epoch 84/100\n",
            "44/44 [==============================] - 21s 473ms/step - loss: 0.4453 - accuracy: 0.8055 - val_loss: 0.6786 - val_accuracy: 0.7432\n",
            "Epoch 85/100\n",
            "44/44 [==============================] - 21s 475ms/step - loss: 0.4573 - accuracy: 0.8239 - val_loss: 0.5165 - val_accuracy: 0.7568\n",
            "Epoch 86/100\n",
            "44/44 [==============================] - 21s 479ms/step - loss: 0.4361 - accuracy: 0.8021 - val_loss: 0.6255 - val_accuracy: 0.7613\n",
            "Epoch 87/100\n",
            "44/44 [==============================] - 21s 486ms/step - loss: 0.4317 - accuracy: 0.8251 - val_loss: 0.4453 - val_accuracy: 0.8198\n",
            "Epoch 88/100\n",
            "44/44 [==============================] - 22s 487ms/step - loss: 0.4300 - accuracy: 0.8182 - val_loss: 0.4792 - val_accuracy: 0.7928\n",
            "Epoch 89/100\n",
            "44/44 [==============================] - 21s 474ms/step - loss: 0.4247 - accuracy: 0.8101 - val_loss: 0.5145 - val_accuracy: 0.7928\n",
            "Epoch 90/100\n",
            "44/44 [==============================] - 21s 477ms/step - loss: 0.4228 - accuracy: 0.8262 - val_loss: 0.4889 - val_accuracy: 0.7658\n",
            "Epoch 91/100\n",
            "44/44 [==============================] - 21s 475ms/step - loss: 0.4280 - accuracy: 0.8262 - val_loss: 0.4625 - val_accuracy: 0.7883\n",
            "Epoch 92/100\n",
            "44/44 [==============================] - 22s 504ms/step - loss: 0.4731 - accuracy: 0.8044 - val_loss: 0.5147 - val_accuracy: 0.7838\n",
            "Epoch 93/100\n",
            "44/44 [==============================] - 21s 477ms/step - loss: 0.4546 - accuracy: 0.7998 - val_loss: 0.5673 - val_accuracy: 0.7883\n",
            "Epoch 94/100\n",
            "44/44 [==============================] - 21s 475ms/step - loss: 0.4342 - accuracy: 0.8412 - val_loss: 0.4437 - val_accuracy: 0.8198\n",
            "Epoch 95/100\n",
            "44/44 [==============================] - 21s 475ms/step - loss: 0.4053 - accuracy: 0.8400 - val_loss: 0.4666 - val_accuracy: 0.8108\n",
            "Epoch 96/100\n",
            "44/44 [==============================] - 21s 475ms/step - loss: 0.4287 - accuracy: 0.8262 - val_loss: 0.4473 - val_accuracy: 0.7793\n",
            "Epoch 97/100\n",
            "44/44 [==============================] - 22s 502ms/step - loss: 0.3882 - accuracy: 0.8354 - val_loss: 0.5214 - val_accuracy: 0.7568\n",
            "Epoch 98/100\n",
            "44/44 [==============================] - 21s 478ms/step - loss: 0.3969 - accuracy: 0.8228 - val_loss: 0.5072 - val_accuracy: 0.7883\n",
            "Epoch 99/100\n",
            "44/44 [==============================] - 21s 476ms/step - loss: 0.4488 - accuracy: 0.8078 - val_loss: 0.4688 - val_accuracy: 0.8018\n",
            "Epoch 100/100\n",
            "44/44 [==============================] - 21s 475ms/step - loss: 0.4312 - accuracy: 0.8044 - val_loss: 0.5085 - val_accuracy: 0.7838\n"
          ]
        }
      ],
      "source": [
        "callbacks = myCallback()\n",
        "history = model.fit(train_generator,\n",
        "                    validation_data = validation_generator,\n",
        "                    epochs = 100,\n",
        "                    callbacks=callbacks) "
      ],
      "id": "26e66755"
    },
    {
      "cell_type": "markdown",
      "source": [
        "run follwoing cell to see how model performed over traineding and validation sets"
      ],
      "metadata": {
        "id": "Oap4_XPqIwOP"
      },
      "id": "Oap4_XPqIwOP"
    },
    {
      "cell_type": "code",
      "execution_count": null,
      "metadata": {
        "id": "401d47a6",
        "colab": {
          "base_uri": "https://localhost:8080/",
          "height": 298
        },
        "outputId": "f037acbd-f909-4551-cf48-29fb67b72387"
      },
      "outputs": [
        {
          "output_type": "display_data",
          "data": {
            "text/plain": [
              "<Figure size 432x288 with 1 Axes>"
            ],
            "image/png": "[encoded data removed]"
          },
          "metadata": {
            "needs_background": "light"
          }
        },
        {
          "output_type": "display_data",
          "data": {
            "text/plain": [
              "<Figure size 432x288 with 0 Axes>"
            ]
          },
          "metadata": {}
        }
      ],
      "source": [
        "acc = history.history['accuracy']\n",
        "val_acc = history.history['val_accuracy']\n",
        "loss = history.history['loss']\n",
        "val_loss = history.history['val_loss']\n",
        "\n",
        "epochs = range(len(acc))\n",
        " \n",
        "plt.plot(epochs, acc, 'r', label='Training accuracy')\n",
        "plt.plot(epochs, val_acc, 'b', label='Validation accuracy')\n",
        "plt.title('Training and validation accuracy')\n",
        "plt.legend(loc=0)\n",
        "plt.figure()\n",
        "\n",
        "plt.show()"
      ],
      "id": "401d47a6"
    },
    {
      "cell_type": "markdown",
      "source": [
        "export serialised version of the model"
      ],
      "metadata": {
        "id": "x2rBoP8fI8Q9"
      },
      "id": "x2rBoP8fI8Q9"
    },
    {
      "cell_type": "code",
      "source": [
        "model.save_weights('/content/drive/MyDrive/Strength NN/weights3/')\n",
        "model.save('/content/drive/MyDrive/Strength NN/trained_model3/')\n",
        "#model=keras.models.load_model('')"
      ],
      "metadata": {
        "id": "XSwSFS_gnV8T"
      },
      "id": "XSwSFS_gnV8T",
      "execution_count": null,
      "outputs": []
    },
    {
      "cell_type": "markdown",
      "source": [
        "run following if you wish to train the model for more epochs"
      ],
      "metadata": {
        "id": "9EU6F853JOku"
      },
      "id": "9EU6F853JOku"
    },
    {
      "cell_type": "code",
      "source": [
        "#model=tf.keras.models.load_model('/content/drive/MyDrive/Strength NN/trained_model3/')\n",
        "#history = model.fit(train_generator,\n",
        "#                    validation_data = validation_generator,\n",
        "#                    epochs = 100,\n",
        "#                    callbacks=callbacks)\n",
        "#model.save_weights('/content/drive/MyDrive/Strength NN/weights3/')\n",
        "#model.save('/content/drive/MyDrive/Strength NN/trained_model3/')\n",
        "\n"
      ],
      "metadata": {
        "id": "aYyRdKv8NNBq"
      },
      "id": "aYyRdKv8NNBq",
      "execution_count": null,
      "outputs": []
    }
  ],
  "metadata": {
    "colab": {
      "provenance": [],
      "collapsed_sections": []
    },
    "kernelspec": {
      "display_name": "Python 3",
      "language": "python",
      "name": "python3"
    },
    "language_info": {
      "codemirror_mode": {
        "name": "ipython",
        "version": 3
      },
      "file_extension": ".py",
      "mimetype": "text/x-python",
      "name": "python",
      "nbconvert_exporter": "python",
      "pygments_lexer": "ipython3",
      "version": "3.8.8"
    },
    "accelerator": "GPU",
    "gpuClass": "standard"
  },
  "nbformat": 4,
  "nbformat_minor": 5
}